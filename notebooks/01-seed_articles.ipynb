{
 "cells": [
  {
   "cell_type": "code",
   "execution_count": 1,
   "metadata": {
    "collapsed": false
   },
   "outputs": [],
   "source": [
    "from bs4 import BeautifulSoup\n",
    "\n",
    "import requests\n",
    "import re"
   ]
  },
  {
   "cell_type": "code",
   "execution_count": null,
   "metadata": {
    "collapsed": true
   },
   "outputs": [],
   "source": [
    "# url = raw_input(\"http://citeseerx.ist.psu.edu/search?q=attitude&submit=Search&sort=rlv&t=doc\")\n",
    "\n",
    "r  = requests.get(\"http://citeseerx.ist.psu.edu/search?q=attitude&submit=Search&sort=rlv&t=doc\")\n",
    "\n",
    "data = r.text\n",
    "\n",
    "soup = BeautifulSoup(data)\n",
    "# soup.prettify"
   ]
  },
  {
   "cell_type": "code",
   "execution_count": 3,
   "metadata": {
    "collapsed": false
   },
   "outputs": [],
   "source": [
    "papers_on_page = soup.findAll('a', {'class':'remove doc_details'})\n",
    "# papers_on_page"
   ]
  },
  {
   "cell_type": "code",
   "execution_count": 4,
   "metadata": {
    "collapsed": false
   },
   "outputs": [
    {
     "name": "stdout",
     "output_type": "stream",
     "text": [
      "/viewdoc/summary;jsessionid=3D4AB76FE529CB36858F796C656B9201?doi=10.1.1.317.9673&rank=1\n",
      "/viewdoc/summary;jsessionid=3D4AB76FE529CB36858F796C656B9201?doi=10.1.1.31.1768&rank=2\n",
      "/viewdoc/summary;jsessionid=3D4AB76FE529CB36858F796C656B9201?doi=10.1.1.320.8769&rank=3\n",
      "/viewdoc/summary;jsessionid=3D4AB76FE529CB36858F796C656B9201?doi=10.1.1.169.4836&rank=4\n",
      "/viewdoc/summary;jsessionid=3D4AB76FE529CB36858F796C656B9201?doi=10.1.1.119.2204&rank=5\n",
      "/viewdoc/summary;jsessionid=3D4AB76FE529CB36858F796C656B9201?doi=10.1.1.37.7970&rank=6\n",
      "/viewdoc/summary;jsessionid=3D4AB76FE529CB36858F796C656B9201?doi=10.1.1.197.1486&rank=7\n",
      "/viewdoc/summary;jsessionid=3D4AB76FE529CB36858F796C656B9201?doi=10.1.1.217.2021&rank=8\n",
      "/viewdoc/summary;jsessionid=3D4AB76FE529CB36858F796C656B9201?doi=10.1.1.184.8776&rank=9\n",
      "/viewdoc/summary;jsessionid=3D4AB76FE529CB36858F796C656B9201?doi=10.1.1.379.7582&rank=10\n"
     ]
    }
   ],
   "source": [
    "for paper_on_page in papers_on_page:\n",
    "    print(paper_on_page.get('href'))"
   ]
  },
  {
   "cell_type": "code",
   "execution_count": 5,
   "metadata": {
    "collapsed": false
   },
   "outputs": [],
   "source": [
    "string = '/viewdoc/summary;jsessionid=4C1CD7E8F0D4A4E4BABAE601DE8D326F?doi=10.1.1.317.9673&rank=1'\n",
    "# print(string)\n",
    "\n",
    "paper_suffix = re.sub(';.*\\?', '?', string)"
   ]
  },
  {
   "cell_type": "code",
   "execution_count": 6,
   "metadata": {
    "collapsed": false
   },
   "outputs": [
    {
     "data": {
      "text/plain": [
       "'http://citeseerx.ist.psu.edu/viewdoc/summary?doi=10.1.1.317.9673&rank=1'"
      ]
     },
     "execution_count": 6,
     "metadata": {},
     "output_type": "execute_result"
    }
   ],
   "source": [
    "paper_url = 'http://citeseerx.ist.psu.edu' + paper_suffix\n",
    "paper_url"
   ]
  },
  {
   "cell_type": "markdown",
   "metadata": {
    "collapsed": true
   },
   "source": [
    "# get citations from seed"
   ]
  },
  {
   "cell_type": "code",
   "execution_count": null,
   "metadata": {
    "collapsed": true
   },
   "outputs": [],
   "source": [
    "r  = requests.get('http://citeseerx.ist.psu.edu/viewdoc/summary?doi=10.1.1.317.9673&rank=1')\n",
    "\n",
    "data = r.text\n",
    "\n",
    "soup = BeautifulSoup(data)\n",
    "soup.prettify"
   ]
  },
  {
   "cell_type": "code",
   "execution_count": null,
   "metadata": {
    "collapsed": true
   },
   "outputs": [],
   "source": []
  }
 ],
 "metadata": {
  "kernelspec": {
   "display_name": "Python 3",
   "language": "python",
   "name": "python3"
  },
  "language_info": {
   "codemirror_mode": {
    "name": "ipython",
    "version": 3
   },
   "file_extension": ".py",
   "mimetype": "text/x-python",
   "name": "python",
   "nbconvert_exporter": "python",
   "pygments_lexer": "ipython3",
   "version": "3.4.3"
  }
 },
 "nbformat": 4,
 "nbformat_minor": 0
}
